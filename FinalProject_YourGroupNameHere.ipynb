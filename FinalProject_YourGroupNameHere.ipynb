{
 "cells": [
  {
   "cell_type": "markdown",
   "metadata": {},
   "source": [
    "# COGS 188 - Final Project"
   ]
  },
  {
   "cell_type": "markdown",
   "metadata": {},
   "source": [
    "# Poker Bot\n",
    "\n",
    "## Group members\n",
    "\n",
    "- Zak Bamford\n",
    "- Sreetama Chowdhury\n",
    "- Joseph Edmonston"
   ]
  },
  {
   "cell_type": "markdown",
   "metadata": {},
   "source": [
    "# Abstract \n",
    "\n",
    "We seek to create a poker bot that will play optimally in order to provide the best possible returns. After developing our initial bot, we will compare its performance against a bot that takes random actions as a baseline. From there, we will iteratively improve our bot, and compare its performance against prior iterations. The bots' performance will be measured by the amount of money they win while playing against other bots over a large number of games to minimize the effects of variance. To improve the bot, we will use Monte Carlo methods to estimate the values of each hand and each set of table cards. These values will then be used to determine whether folding, calling, or raising would be the best play based on the win probability of the hand. We will determine the bot's success by measuring its performance against the random bot and prior iterations of the bot. In addition, we will compare the bot against publicly available poker bots to determine if it is a good competitor."
   ]
  },
  {
   "cell_type": "markdown",
   "metadata": {},
   "source": [
    "# Background\n",
    "\n",
    "Poker is a popular card game that blends skill, strategy, and chance. Players engage in betting on the strength of their hands throughout multiple rounds, with the goal of either having the best hand or convincing their opponents to fold through strategic bluffing. In essence, poker is a \"game of chip management,\" emphasizing the importance of making decisions based on one's chip count relative to that of their opponents. In addition, poker is a mathematically complex game; there are 2,598,960 unique poker hands  and players can choose to bet as much as they want. This makes poker a great candidate for an AI algorithm, as humans could never evaluate all the possible states.\n",
    "\n",
    "Several aspects of poker can be algorithmized -- the calculation of probabilities, pot odds, and hand strengths to determine the best actions, such as betting, raising, or folding. Algorithms can model and predict opponents' behavior by analyzing historical data, enabling adaptive strategies that counteract different playing styles. Game theory principles can be employed to devise strategies that minimize losses and maximize gains over the long term, even in the face of unpredictable opponents. There are multiple approaches to poker bots; these include basic strategy bots and bots that adapt to their opponents' moves. Basic strategy bots play a mathematically optimal strategy which can be exploited by strong opponents. On the other hand, adaptive bots attempt to change their strategies based on what their opponents do, but this may lead to suboptimal play since bots are not good at reading humans' bluffs.\n",
    "\n",
    "It's important for us to note that this \"problem\" isn't quite a novel one -- there are already a range of poker bots available for use, with varying levels of skill and success at playing. CardsChat, a forum and learning community for poker players, explains that while poker bots have been around for a good few years, they're still frowned upon and very much prohibited in online game rooms that play for real money. While bots may be profitable in lower-stakes poker games, high level poker players are generally more psychologically involved in gameplay in a way bots are too mathematically driven to emulate. There are a number of tips provided by various sources to human poker players to help identify poker bots in the real world, such as identical decision timing and repetitive moves. Once found and investigated, bots are generally banned permanently. \n",
    "\n",
    "As a mathematical/programming exercise, though, they're interesting! MIT Pokerbots, for example, is an annual one-month-long competition that gives teams of students one month to create and compete with a completely autonomous poker bot, with rewards including both financial prizes and attention from technological and trading companies!"
   ]
  },
  {
   "cell_type": "markdown",
   "metadata": {},
   "source": [
    "# Problem Statement\n",
    "\n",
    "In each possible state of a poker game consisting of the bot’s hand, the table cards, and the pot, we will attempt to find the optimal policy that maximizes our rewards from that state while playing against another poker player. Since poker is partially a game of chance, the bot’s profit over a large number of games will be measured. Initially we will design our bot for Heads-up poker, poker with only two players. This may be expanded to multi bot play."
   ]
  },
  {
   "cell_type": "markdown",
   "metadata": {},
   "source": [
    "# Data\n",
    "\n",
    "Since we will have bots play against each other for training and testing, we should not need an external dataset.\n"
   ]
  },
  {
   "cell_type": "markdown",
   "metadata": {},
   "source": [
    "# Proposed Solution\n",
    "\n",
    "We will use a monte carlo training method. We will run simulations, having our bot play against itself as it learns along with bots that play at random.\n",
    "\n",
    "The number of possible states without abstraction in poker is far too large to be able to train a model to cover all these states. Because of this, our solution will attempt to reduce the state and action space in a manner that still allows us to have an effective bot.\n",
    "\n",
    "The state space will be reduced to a set of the following:\n",
    "\n",
    " the win probability of your hand to a randomly dealt opponent’s hand. \n",
    "\n",
    "The actions that have led up to this state from the start of the round.\n",
    "\n",
    "The bucketed quantities of money both players have. Again to decrease our state space, we think it might be useful to, instead of representing every possible amount of money our players can have, to represent it as a bucketed ratio of the initial buy in. \n",
    "\n",
    "For example, the buy in is represented as 1, the max value you can have is 2, the sum opponent value + your value = 2. Then when you have .846… of your initial buy in we would just bucket it to .85.\n",
    "\n",
    "The current round of betting that we are in ( pre flop, flop, turn, river)\n",
    "\n",
    "For example a state might look like (55, preflop, opponent-check, , user=.85, opponent =1.15)\n",
    "and you would pick an action from this state\n",
    "\n",
    "The set of actions will also be simplified, in particular what our bot might bet . Our bot can either fold, check, or raise. When it decides to raise, instead of considering every possible bet it will draw from a set of possibilities. It can either decide to bet on the current amount in the pot, the amount it currently owns, or the amount the opponent owns. Then it can bet either ¼, ½, ¾, or the entire quantity. So 12 possible betting options, which can be expanded for greater granularity if needed.\n",
    "\n",
    "The rewards will be assigned at the end of the round, and will go back up the action tree with a decay value. The reward will just be the amount of money won or lost. It may also be interesting to look at what we might have won/lost if we kept playing and use curLost - might have gained as our reward instead. \n",
    "\n",
    "Our solution has a reasonable chance of success because even with an extremely large reduction of states from the true number of states The most important key points of information remain. For example, a low probability hand where your opponent has been consistently betting is all you really need to know to know that you should fold. \n",
    "\n",
    "Because of the reduction in states It should be possible to train our bot in a reasonable time frame.\n"
   ]
  },
  {
   "cell_type": "markdown",
   "metadata": {},
   "source": [
    "# Evaluation Metrics\n",
    "\n",
    "One method to evaluate our bot is to run our trained bot against a randomly betting bot. We can run our bot for a set number of games and see its returns. We can also design a few other dummy bots for it to run against like an all in bot or a cautious bot to see how it does."
   ]
  },
  {
   "cell_type": "markdown",
   "metadata": {},
   "source": [
    "# Results\n",
    "\n",
    "You may have done tons of work on this. Not all of it belongs here. \n",
    "\n",
    "Reports should have a __narrative__. Once you've looked through all your results over the quarter, decide on one main point and 2-4 secondary points you want us to understand. Include the detailed code and analysis results of those points only; you should spend more time/code/plots on your main point than the others.\n",
    "\n",
    "If you went down any blind alleys that you later decided to not pursue, please don't abuse the TAs time by throwing in 81 lines of code and 4 plots related to something you actually abandoned.  Consider deleting things that are not important to your narrative.  If its slightly relevant to the narrative or you just want us to know you tried something, you could keep it in by summarizing the result in this report in a sentence or two, moving the actual analysis to another file in your repo, and providing us a link to that file.\n",
    "\n",
    "### Subsection 1\n",
    "\n",
    "You will likely have different subsections as you go through your report. For instance you might start with an analysis of the dataset/problem and from there you might be able to draw out the kinds of algorithms that are / aren't appropriate to tackle the solution.  Or something else completely if this isn't the way your project works.\n",
    "\n",
    "### Subsection 2\n",
    "\n",
    "Another likely section is if you are doing any feature selection through cross-validation or hand-design/validation of features/transformations of the data\n",
    "\n",
    "### Subsection 3\n",
    "\n",
    "Probably you need to describe the base model and demonstrate its performance.  Maybe you include a learning curve to show whether you have enough data to do train/validate/test split or have to go to k-folds or LOOCV or ???\n",
    "\n",
    "### Subsection 4\n",
    "\n",
    "Perhaps some exploration of the model selection (hyper-parameters) or algorithm selection task. Validation curves, plots showing the variability of perfromance across folds of the cross-validation, etc. If you're doing one, the outcome of the null hypothesis test or parsimony principle check to show how you are selecting the best model.\n",
    "\n",
    "### Subsection 5 \n",
    "\n",
    "Maybe you do model selection again, but using a different kind of metric than before?\n",
    "\n"
   ]
  },
  {
   "cell_type": "markdown",
   "metadata": {},
   "source": [
    "# Discussion\n",
    "\n",
    "### Interpreting the result\n",
    "\n",
    "OK, you've given us quite a bit of tech informaiton above, now its time to tell us what to pay attention to in all that.  Think clearly about your results, decide on one main point and 2-4 secondary points you want us to understand. Highlight HOW your results support those points.  You probably want 2-5 sentences per point.\n",
    "\n",
    "### Limitations\n",
    "\n",
    "Are there any problems with the work?  For instance would more data change the nature of the problem? Would it be good to explore more hyperparams than you had time for?   \n",
    "\n",
    "### Ethics & Privacy\n",
    "\n",
    "Given our present plans we don't think this project has too many serious ethical considerations -- it's a fairly simple bot, and while poker is a game played with real stakes, we're not using physical money. It's not real gambling at this point, and we aren't using any data, so there aren't privacy concerns. In the event that an upgraded version of this bot learned so well that it became unbeatable at poker and involved actual monetary bets being made, it might be dangerous when played against by people with gambling issues, but as of right now it's fine. \n",
    "\n",
    "### Conclusion\n",
    "\n",
    "Reiterate your main point and in just a few sentences tell us how your results support it. Mention how this work would fit in the background/context of other work in this field if you can. Suggest directions for future work if you want to."
   ]
  },
  {
   "cell_type": "markdown",
   "metadata": {},
   "source": [
    "# Footnotes\n",
    "<a name=\"lorenznote\"></a>1.[^](#lorenz): Lorenz, T. (9 Dec 2021) Birds Aren’t Real, or Are They? Inside a Gen Z Conspiracy Theory. *The New York Times*. https://www.nytimes.com/2021/12/09/technology/birds-arent-real-gen-z-misinformation.html<br> \n",
    "<a name=\"admonishnote\"></a>2.[^](#admonish): Also refs should be important to the background, not some randomly chosen vaguely related stuff. Include a web link if possible in refs as above.<br>\n",
    "<a name=\"sotanote\"></a>3.[^](#sota): Perhaps the current state of the art solution such as you see on [Papers with code](https://paperswithcode.com/sota). Or maybe not SOTA, but rather a standard textbook/Kaggle solution to this kind of problem\n"
   ]
  }
 ],
 "metadata": {
  "kernelspec": {
   "display_name": "Python 3 (ipykernel)",
   "language": "python",
   "name": "python3"
  },
  "language_info": {
   "codemirror_mode": {
    "name": "ipython",
    "version": 3
   },
   "file_extension": ".py",
   "mimetype": "text/x-python",
   "name": "python",
   "nbconvert_exporter": "python",
   "pygments_lexer": "ipython3",
   "version": "3.9.12"
  }
 },
 "nbformat": 4,
 "nbformat_minor": 2
}
